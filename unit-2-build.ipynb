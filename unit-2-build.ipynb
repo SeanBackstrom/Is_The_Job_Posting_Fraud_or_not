{
 "cells": [
  {
   "cell_type": "code",
   "execution_count": 1,
   "metadata": {},
   "outputs": [],
   "source": [
    "import pandas as pd "
   ]
  },
  {
   "cell_type": "code",
   "execution_count": 11,
   "metadata": {},
   "outputs": [],
   "source": [
    "#find df at https://www.kaggle.com/shivamb/real-or-fake-fake-jobposting-prediction\n",
    "df = pd.read_csv(\"fake_job_postings.csv\", index_col='job_id')"
   ]
  },
  {
   "cell_type": "code",
   "execution_count": 13,
   "metadata": {},
   "outputs": [
    {
     "output_type": "execute_result",
     "data": {
      "text/plain": "                                                    title  \\\njob_id                                                      \n1                                        Marketing Intern   \n2               Customer Service - Cloud Video Production   \n3                 Commissioning Machinery Assistant (CMA)   \n4                       Account Executive - Washington DC   \n5                                     Bill Review Manager   \n...                                                   ...   \n17876                    Account Director - Distribution    \n17877                                  Payroll Accountant   \n17878   Project Cost Control Staff Engineer - Cost Con...   \n17879                                    Graphic Designer   \n17880                          Web Application Developers   \n\n                    location   department salary_range  \\\njob_id                                                   \n1           US, NY, New York    Marketing          NaN   \n2             NZ, , Auckland      Success          NaN   \n3              US, IA, Wever          NaN          NaN   \n4         US, DC, Washington        Sales          NaN   \n5         US, FL, Fort Worth          NaN          NaN   \n...                      ...          ...          ...   \n17876        CA, ON, Toronto        Sales          NaN   \n17877   US, PA, Philadelphia   Accounting          NaN   \n17878        US, TX, Houston          NaN          NaN   \n17879          NG, LA, Lagos          NaN          NaN   \n17880      NZ, N, Wellington  Engineering          NaN   \n\n                                          company_profile  \\\njob_id                                                      \n1       We're Food52, and we've created a groundbreaki...   \n2       90 Seconds, the worlds Cloud Video Production ...   \n3       Valor Services provides Workforce Solutions th...   \n4       Our passion for improving quality of life thro...   \n5       SpotSource Solutions LLC is a Global Human Cap...   \n...                                                   ...   \n17876   Vend is looking for some awesome new talent to...   \n17877   WebLinc is the e-commerce platform and service...   \n17878   We Provide Full Time Permanent Positions for m...   \n17879                                                 NaN   \n17880   Vend is looking for some awesome new talent to...   \n\n                                              description  \\\njob_id                                                      \n1       Food52, a fast-growing, James Beard Award-winn...   \n2       Organised - Focused - Vibrant - Awesome!Do you...   \n3       Our client, located in Houston, is actively se...   \n4       THE COMPANY: ESRI – Environmental Systems Rese...   \n5       JOB TITLE: Itemization Review ManagerLOCATION:...   \n...                                                   ...   \n17876   Just in case this is the first time you’ve vis...   \n17877   The Payroll Accountant will focus primarily on...   \n17878   Experienced Project Cost Control Staff Enginee...   \n17879   Nemsia Studios is looking for an experienced v...   \n17880   Who are we?Vend is an award winning web based ...   \n\n                                             requirements  \\\njob_id                                                      \n1       Experience with content management systems a m...   \n2       What we expect from you:Your key responsibilit...   \n3       Implement pre-commissioning and commissioning ...   \n4       EDUCATION: Bachelor’s or Master’s in GIS, busi...   \n5       QUALIFICATIONS:RN license in the State of Texa...   \n...                                                   ...   \n17876   To ace this role you:Will eat comprehensive St...   \n17877   - B.A. or B.S. in Accounting- Desire to have f...   \n17878   At least 12 years professional experience.Abil...   \n17879   1. Must be fluent in the latest versions of Co...   \n17880   We want to hear from you if:You have an in-dep...   \n\n                                                 benefits  telecommuting  \\\njob_id                                                                     \n1                                                     NaN              0   \n2       What you will get from usThrough being part of...              0   \n3                                                     NaN              0   \n4       Our culture is anything but corporate—we have ...              0   \n5                                   Full Benefits Offered              0   \n...                                                   ...            ...   \n17876   What can you expect from us?We have an open cu...              0   \n17877   Health &amp; WellnessMedical planPrescription ...              0   \n17878                                                 NaN              0   \n17879   Competitive salary (compensation will be based...              0   \n17880                                                 NaN              0   \n\n        has_company_logo  has_questions employment_type required_experience  \\\njob_id                                                                        \n1                      1              0           Other          Internship   \n2                      1              0       Full-time      Not Applicable   \n3                      1              0             NaN                 NaN   \n4                      1              0       Full-time    Mid-Senior level   \n5                      1              1       Full-time    Mid-Senior level   \n...                  ...            ...             ...                 ...   \n17876                  1              1       Full-time    Mid-Senior level   \n17877                  1              1       Full-time    Mid-Senior level   \n17878                  0              0       Full-time                 NaN   \n17879                  0              1        Contract      Not Applicable   \n17880                  1              1       Full-time    Mid-Senior level   \n\n       required_education                   industry              function  \\\njob_id                                                                       \n1                     NaN                        NaN             Marketing   \n2                     NaN  Marketing and Advertising      Customer Service   \n3                     NaN                        NaN                   NaN   \n4       Bachelor's Degree          Computer Software                 Sales   \n5       Bachelor's Degree     Hospital & Health Care  Health Care Provider   \n...                   ...                        ...                   ...   \n17876                 NaN          Computer Software                 Sales   \n17877   Bachelor's Degree                   Internet   Accounting/Auditing   \n17878                 NaN                        NaN                   NaN   \n17879        Professional             Graphic Design                Design   \n17880                 NaN          Computer Software           Engineering   \n\n        fraudulent  \njob_id              \n1                0  \n2                0  \n3                0  \n4                0  \n5                0  \n...            ...  \n17876            0  \n17877            0  \n17878            0  \n17879            0  \n17880            0  \n\n[17880 rows x 17 columns]",
      "text/html": "<div>\n<style scoped>\n    .dataframe tbody tr th:only-of-type {\n        vertical-align: middle;\n    }\n\n    .dataframe tbody tr th {\n        vertical-align: top;\n    }\n\n    .dataframe thead th {\n        text-align: right;\n    }\n</style>\n<table border=\"1\" class=\"dataframe\">\n  <thead>\n    <tr style=\"text-align: right;\">\n      <th></th>\n      <th>title</th>\n      <th>location</th>\n      <th>department</th>\n      <th>salary_range</th>\n      <th>company_profile</th>\n      <th>description</th>\n      <th>requirements</th>\n      <th>benefits</th>\n      <th>telecommuting</th>\n      <th>has_company_logo</th>\n      <th>has_questions</th>\n      <th>employment_type</th>\n      <th>required_experience</th>\n      <th>required_education</th>\n      <th>industry</th>\n      <th>function</th>\n      <th>fraudulent</th>\n    </tr>\n    <tr>\n      <th>job_id</th>\n      <th></th>\n      <th></th>\n      <th></th>\n      <th></th>\n      <th></th>\n      <th></th>\n      <th></th>\n      <th></th>\n      <th></th>\n      <th></th>\n      <th></th>\n      <th></th>\n      <th></th>\n      <th></th>\n      <th></th>\n      <th></th>\n      <th></th>\n    </tr>\n  </thead>\n  <tbody>\n    <tr>\n      <th>1</th>\n      <td>Marketing Intern</td>\n      <td>US, NY, New York</td>\n      <td>Marketing</td>\n      <td>NaN</td>\n      <td>We're Food52, and we've created a groundbreaki...</td>\n      <td>Food52, a fast-growing, James Beard Award-winn...</td>\n      <td>Experience with content management systems a m...</td>\n      <td>NaN</td>\n      <td>0</td>\n      <td>1</td>\n      <td>0</td>\n      <td>Other</td>\n      <td>Internship</td>\n      <td>NaN</td>\n      <td>NaN</td>\n      <td>Marketing</td>\n      <td>0</td>\n    </tr>\n    <tr>\n      <th>2</th>\n      <td>Customer Service - Cloud Video Production</td>\n      <td>NZ, , Auckland</td>\n      <td>Success</td>\n      <td>NaN</td>\n      <td>90 Seconds, the worlds Cloud Video Production ...</td>\n      <td>Organised - Focused - Vibrant - Awesome!Do you...</td>\n      <td>What we expect from you:Your key responsibilit...</td>\n      <td>What you will get from usThrough being part of...</td>\n      <td>0</td>\n      <td>1</td>\n      <td>0</td>\n      <td>Full-time</td>\n      <td>Not Applicable</td>\n      <td>NaN</td>\n      <td>Marketing and Advertising</td>\n      <td>Customer Service</td>\n      <td>0</td>\n    </tr>\n    <tr>\n      <th>3</th>\n      <td>Commissioning Machinery Assistant (CMA)</td>\n      <td>US, IA, Wever</td>\n      <td>NaN</td>\n      <td>NaN</td>\n      <td>Valor Services provides Workforce Solutions th...</td>\n      <td>Our client, located in Houston, is actively se...</td>\n      <td>Implement pre-commissioning and commissioning ...</td>\n      <td>NaN</td>\n      <td>0</td>\n      <td>1</td>\n      <td>0</td>\n      <td>NaN</td>\n      <td>NaN</td>\n      <td>NaN</td>\n      <td>NaN</td>\n      <td>NaN</td>\n      <td>0</td>\n    </tr>\n    <tr>\n      <th>4</th>\n      <td>Account Executive - Washington DC</td>\n      <td>US, DC, Washington</td>\n      <td>Sales</td>\n      <td>NaN</td>\n      <td>Our passion for improving quality of life thro...</td>\n      <td>THE COMPANY: ESRI – Environmental Systems Rese...</td>\n      <td>EDUCATION: Bachelor’s or Master’s in GIS, busi...</td>\n      <td>Our culture is anything but corporate—we have ...</td>\n      <td>0</td>\n      <td>1</td>\n      <td>0</td>\n      <td>Full-time</td>\n      <td>Mid-Senior level</td>\n      <td>Bachelor's Degree</td>\n      <td>Computer Software</td>\n      <td>Sales</td>\n      <td>0</td>\n    </tr>\n    <tr>\n      <th>5</th>\n      <td>Bill Review Manager</td>\n      <td>US, FL, Fort Worth</td>\n      <td>NaN</td>\n      <td>NaN</td>\n      <td>SpotSource Solutions LLC is a Global Human Cap...</td>\n      <td>JOB TITLE: Itemization Review ManagerLOCATION:...</td>\n      <td>QUALIFICATIONS:RN license in the State of Texa...</td>\n      <td>Full Benefits Offered</td>\n      <td>0</td>\n      <td>1</td>\n      <td>1</td>\n      <td>Full-time</td>\n      <td>Mid-Senior level</td>\n      <td>Bachelor's Degree</td>\n      <td>Hospital &amp; Health Care</td>\n      <td>Health Care Provider</td>\n      <td>0</td>\n    </tr>\n    <tr>\n      <th>...</th>\n      <td>...</td>\n      <td>...</td>\n      <td>...</td>\n      <td>...</td>\n      <td>...</td>\n      <td>...</td>\n      <td>...</td>\n      <td>...</td>\n      <td>...</td>\n      <td>...</td>\n      <td>...</td>\n      <td>...</td>\n      <td>...</td>\n      <td>...</td>\n      <td>...</td>\n      <td>...</td>\n      <td>...</td>\n    </tr>\n    <tr>\n      <th>17876</th>\n      <td>Account Director - Distribution</td>\n      <td>CA, ON, Toronto</td>\n      <td>Sales</td>\n      <td>NaN</td>\n      <td>Vend is looking for some awesome new talent to...</td>\n      <td>Just in case this is the first time you’ve vis...</td>\n      <td>To ace this role you:Will eat comprehensive St...</td>\n      <td>What can you expect from us?We have an open cu...</td>\n      <td>0</td>\n      <td>1</td>\n      <td>1</td>\n      <td>Full-time</td>\n      <td>Mid-Senior level</td>\n      <td>NaN</td>\n      <td>Computer Software</td>\n      <td>Sales</td>\n      <td>0</td>\n    </tr>\n    <tr>\n      <th>17877</th>\n      <td>Payroll Accountant</td>\n      <td>US, PA, Philadelphia</td>\n      <td>Accounting</td>\n      <td>NaN</td>\n      <td>WebLinc is the e-commerce platform and service...</td>\n      <td>The Payroll Accountant will focus primarily on...</td>\n      <td>- B.A. or B.S. in Accounting- Desire to have f...</td>\n      <td>Health &amp;amp; WellnessMedical planPrescription ...</td>\n      <td>0</td>\n      <td>1</td>\n      <td>1</td>\n      <td>Full-time</td>\n      <td>Mid-Senior level</td>\n      <td>Bachelor's Degree</td>\n      <td>Internet</td>\n      <td>Accounting/Auditing</td>\n      <td>0</td>\n    </tr>\n    <tr>\n      <th>17878</th>\n      <td>Project Cost Control Staff Engineer - Cost Con...</td>\n      <td>US, TX, Houston</td>\n      <td>NaN</td>\n      <td>NaN</td>\n      <td>We Provide Full Time Permanent Positions for m...</td>\n      <td>Experienced Project Cost Control Staff Enginee...</td>\n      <td>At least 12 years professional experience.Abil...</td>\n      <td>NaN</td>\n      <td>0</td>\n      <td>0</td>\n      <td>0</td>\n      <td>Full-time</td>\n      <td>NaN</td>\n      <td>NaN</td>\n      <td>NaN</td>\n      <td>NaN</td>\n      <td>0</td>\n    </tr>\n    <tr>\n      <th>17879</th>\n      <td>Graphic Designer</td>\n      <td>NG, LA, Lagos</td>\n      <td>NaN</td>\n      <td>NaN</td>\n      <td>NaN</td>\n      <td>Nemsia Studios is looking for an experienced v...</td>\n      <td>1. Must be fluent in the latest versions of Co...</td>\n      <td>Competitive salary (compensation will be based...</td>\n      <td>0</td>\n      <td>0</td>\n      <td>1</td>\n      <td>Contract</td>\n      <td>Not Applicable</td>\n      <td>Professional</td>\n      <td>Graphic Design</td>\n      <td>Design</td>\n      <td>0</td>\n    </tr>\n    <tr>\n      <th>17880</th>\n      <td>Web Application Developers</td>\n      <td>NZ, N, Wellington</td>\n      <td>Engineering</td>\n      <td>NaN</td>\n      <td>Vend is looking for some awesome new talent to...</td>\n      <td>Who are we?Vend is an award winning web based ...</td>\n      <td>We want to hear from you if:You have an in-dep...</td>\n      <td>NaN</td>\n      <td>0</td>\n      <td>1</td>\n      <td>1</td>\n      <td>Full-time</td>\n      <td>Mid-Senior level</td>\n      <td>NaN</td>\n      <td>Computer Software</td>\n      <td>Engineering</td>\n      <td>0</td>\n    </tr>\n  </tbody>\n</table>\n<p>17880 rows × 17 columns</p>\n</div>"
     },
     "metadata": {},
     "execution_count": 13
    }
   ],
   "source": [
    "df"
   ]
  },
  {
   "cell_type": "markdown",
   "metadata": {},
   "source": [
    "Define ML problems\n",
    "\n",
    "\n",
    "\n",
    "    [ ] Choose your target. Which column in your tabular dataset will you predict?\n",
    "     - I will be predicting the fraudulent column\n",
    "    [ ] Is your problem regression or classification?\n",
    "     - Classification\n",
    "    [ ] How is your target distributed?\n",
    "        Classification: How many classes? Are the classes imbalanced?\n",
    "           - 2, it is binary, and heavily imbalanced. The majority class is 95%\n",
    "    [ ] Choose your evaluation metric(s).\n",
    "        Classification: Is your majority class frequency >= 50% and < 70% ? If so, you can just use accuracy if you want. Outside that range, accuracy could be misleading. What evaluation metric will you choose, in addition to or instead of accuracy?\n",
    "        - Recall is what I'll be using.\n",
    "\n",
    "    [ ] Choose which observations you will use to train, validate, and test your model.\n",
    "        Are some observations outliers? Will you exclude them?\n",
    "            - I would like to use all of them to TVT.\n",
    "        Will you do a random split or a time-based split?\n",
    "            - random\n",
    "    [ ] Begin to clean and explore your data.\n",
    "    [ ] Begin to choose which features, if any, to exclude. Would some features \"leak\" future information?\n",
    "\n",
    "\n",
    "Day One: Spent tutorialing text parsing so I can get metrics from heavy text data."
   ]
  },
  {
   "cell_type": "code",
   "execution_count": 41,
   "metadata": {},
   "outputs": [
    {
     "output_type": "execute_result",
     "data": {
      "text/plain": "0    0.951566\n1    0.048434\nName: fraudulent, dtype: float64"
     },
     "metadata": {},
     "execution_count": 41
    }
   ],
   "source": [
    "df['fraudulent'].value_counts(normalize=True)"
   ]
  },
  {
   "cell_type": "code",
   "execution_count": null,
   "metadata": {},
   "outputs": [],
   "source": []
  }
 ],
 "metadata": {
  "language_info": {
   "codemirror_mode": {
    "name": "ipython",
    "version": 3
   },
   "file_extension": ".py",
   "mimetype": "text/x-python",
   "name": "python",
   "nbconvert_exporter": "python",
   "pygments_lexer": "ipython3",
   "version": "3.7.6-final"
  },
  "orig_nbformat": 2,
  "kernelspec": {
   "name": "python37664bitunit2conda09fd49563c8e43a0ab9902eb47cf7c23",
   "display_name": "Python 3.7.6 64-bit ('unit2': conda)"
  }
 },
 "nbformat": 4,
 "nbformat_minor": 2
}